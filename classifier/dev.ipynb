{
 "cells": [
  {
   "cell_type": "code",
   "execution_count": 1,
   "id": "dff6df2b-78dd-4e42-8d56-eaedb21b123a",
   "metadata": {},
   "outputs": [],
   "source": [
    "from train import train_val_split, plot_hist, model_arch"
   ]
  },
  {
   "cell_type": "code",
   "execution_count": 6,
   "id": "44c439a0-fac8-4d5a-9746-88d583f80873",
   "metadata": {},
   "outputs": [],
   "source": [
    "DATA_DIR = \"img/\"\n",
    "# fixed for each efficientnet model\n",
    "IMG_SIZE = 224 \n",
    "NUM_CLASSES = 2\n",
    "EPOCH = 40\n",
    "LR = 1e-4"
   ]
  },
  {
   "cell_type": "code",
   "execution_count": 5,
   "id": "4c5cc84b-eb94-4a6f-8578-24634b308d01",
   "metadata": {},
   "outputs": [
    {
     "name": "stdout",
     "output_type": "stream",
     "text": [
      "Found 1425 files belonging to 2 classes.\n",
      "Using 1140 files for training.\n",
      "Found 1425 files belonging to 2 classes.\n",
      "Using 285 files for validation.\n"
     ]
    }
   ],
   "source": [
    "train_data, val_data = train_val_split(DATA_DIR, IMG_SIZE)"
   ]
  },
  {
   "cell_type": "code",
   "execution_count": 4,
   "id": "f6d1169f-57ad-4907-ba14-598d19e55952",
   "metadata": {},
   "outputs": [],
   "source": [
    "model = model_arch(NUM_CLASSES, IMG_SIZE, LR)"
   ]
  },
  {
   "cell_type": "code",
   "execution_count": 7,
   "id": "13095213-1530-4bd8-be38-25cc7c4fe892",
   "metadata": {},
   "outputs": [
    {
     "name": "stderr",
     "output_type": "stream",
     "text": [
      "2021-10-19 08:28:31.825211: I tensorflow/compiler/mlir/mlir_graph_optimization_pass.cc:185] None of the MLIR Optimization Passes are enabled (registered 2)\n"
     ]
    },
    {
     "name": "stdout",
     "output_type": "stream",
     "text": [
      "Epoch 1/40\n",
      "9/9 [==============================] - 30s 3s/step - loss: 0.5268 - accuracy: 0.8000 - val_loss: 0.2698 - val_accuracy: 0.9114\n",
      "\n",
      "Epoch 00001: val_loss improved from inf to 0.26977, saving model to ./model/20211019\n"
     ]
    },
    {
     "name": "stderr",
     "output_type": "stream",
     "text": [
      "2021-10-19 08:29:11.044078: W tensorflow/python/util/util.cc:348] Sets are not currently considered sequences, but this may change in the future, so consider avoiding using them.\n"
     ]
    },
    {
     "name": "stdout",
     "output_type": "stream",
     "text": [
      "INFO:tensorflow:Assets written to: ./model/20211019/assets\n"
     ]
    },
    {
     "name": "stderr",
     "output_type": "stream",
     "text": [
      "/notebooks/.bdrk_env/lib/python3.8/site-packages/keras/utils/generic_utils.py:494: CustomMaskWarning: Custom mask layers require a config and must override get_config. When loading, the custom mask layer must be passed to the custom_objects argument.\n",
      "  warnings.warn('Custom mask layers require a config and must override '\n"
     ]
    },
    {
     "name": "stdout",
     "output_type": "stream",
     "text": [
      "Epoch 2/40\n",
      "9/9 [==============================] - 23s 3s/step - loss: 0.3055 - accuracy: 0.9053 - val_loss: 0.2588 - val_accuracy: 0.9000\n",
      "\n",
      "Epoch 00002: val_loss improved from 0.26977 to 0.25877, saving model to ./model/20211019\n",
      "INFO:tensorflow:Assets written to: ./model/20211019/assets\n"
     ]
    },
    {
     "name": "stderr",
     "output_type": "stream",
     "text": [
      "/notebooks/.bdrk_env/lib/python3.8/site-packages/keras/utils/generic_utils.py:494: CustomMaskWarning: Custom mask layers require a config and must override get_config. When loading, the custom mask layer must be passed to the custom_objects argument.\n",
      "  warnings.warn('Custom mask layers require a config and must override '\n"
     ]
    },
    {
     "name": "stdout",
     "output_type": "stream",
     "text": [
      "Epoch 3/40\n",
      "9/9 [==============================] - 22s 3s/step - loss: 0.1999 - accuracy: 0.9439 - val_loss: 0.2363 - val_accuracy: 0.9140\n",
      "\n",
      "Epoch 00003: val_loss improved from 0.25877 to 0.23625, saving model to ./model/20211019\n",
      "INFO:tensorflow:Assets written to: ./model/20211019/assets\n"
     ]
    },
    {
     "name": "stderr",
     "output_type": "stream",
     "text": [
      "/notebooks/.bdrk_env/lib/python3.8/site-packages/keras/utils/generic_utils.py:494: CustomMaskWarning: Custom mask layers require a config and must override get_config. When loading, the custom mask layer must be passed to the custom_objects argument.\n",
      "  warnings.warn('Custom mask layers require a config and must override '\n"
     ]
    },
    {
     "name": "stdout",
     "output_type": "stream",
     "text": [
      "Epoch 4/40\n",
      "9/9 [==============================] - 22s 3s/step - loss: 0.1985 - accuracy: 0.9439 - val_loss: 0.2333 - val_accuracy: 0.9105\n",
      "\n",
      "Epoch 00004: val_loss improved from 0.23625 to 0.23333, saving model to ./model/20211019\n",
      "INFO:tensorflow:Assets written to: ./model/20211019/assets\n"
     ]
    },
    {
     "name": "stderr",
     "output_type": "stream",
     "text": [
      "/notebooks/.bdrk_env/lib/python3.8/site-packages/keras/utils/generic_utils.py:494: CustomMaskWarning: Custom mask layers require a config and must override get_config. When loading, the custom mask layer must be passed to the custom_objects argument.\n",
      "  warnings.warn('Custom mask layers require a config and must override '\n"
     ]
    },
    {
     "name": "stdout",
     "output_type": "stream",
     "text": [
      "Epoch 5/40\n",
      "9/9 [==============================] - 21s 3s/step - loss: 0.1684 - accuracy: 0.9333 - val_loss: 0.2315 - val_accuracy: 0.9123\n",
      "\n",
      "Epoch 00005: val_loss improved from 0.23333 to 0.23148, saving model to ./model/20211019\n",
      "INFO:tensorflow:Assets written to: ./model/20211019/assets\n"
     ]
    },
    {
     "name": "stderr",
     "output_type": "stream",
     "text": [
      "/notebooks/.bdrk_env/lib/python3.8/site-packages/keras/utils/generic_utils.py:494: CustomMaskWarning: Custom mask layers require a config and must override get_config. When loading, the custom mask layer must be passed to the custom_objects argument.\n",
      "  warnings.warn('Custom mask layers require a config and must override '\n"
     ]
    },
    {
     "name": "stdout",
     "output_type": "stream",
     "text": [
      "Epoch 6/40\n",
      "9/9 [==============================] - 22s 3s/step - loss: 0.1084 - accuracy: 0.9579 - val_loss: 0.2253 - val_accuracy: 0.9114\n",
      "\n",
      "Epoch 00006: val_loss improved from 0.23148 to 0.22528, saving model to ./model/20211019\n",
      "INFO:tensorflow:Assets written to: ./model/20211019/assets\n"
     ]
    },
    {
     "name": "stderr",
     "output_type": "stream",
     "text": [
      "/notebooks/.bdrk_env/lib/python3.8/site-packages/keras/utils/generic_utils.py:494: CustomMaskWarning: Custom mask layers require a config and must override get_config. When loading, the custom mask layer must be passed to the custom_objects argument.\n",
      "  warnings.warn('Custom mask layers require a config and must override '\n"
     ]
    },
    {
     "name": "stdout",
     "output_type": "stream",
     "text": [
      "Epoch 7/40\n",
      "9/9 [==============================] - 22s 3s/step - loss: 0.0774 - accuracy: 0.9789 - val_loss: 0.2092 - val_accuracy: 0.9228\n",
      "\n",
      "Epoch 00007: val_loss improved from 0.22528 to 0.20915, saving model to ./model/20211019\n",
      "INFO:tensorflow:Assets written to: ./model/20211019/assets\n"
     ]
    },
    {
     "name": "stderr",
     "output_type": "stream",
     "text": [
      "/notebooks/.bdrk_env/lib/python3.8/site-packages/keras/utils/generic_utils.py:494: CustomMaskWarning: Custom mask layers require a config and must override get_config. When loading, the custom mask layer must be passed to the custom_objects argument.\n",
      "  warnings.warn('Custom mask layers require a config and must override '\n"
     ]
    },
    {
     "name": "stdout",
     "output_type": "stream",
     "text": [
      "Epoch 8/40\n",
      "9/9 [==============================] - 22s 3s/step - loss: 0.1576 - accuracy: 0.9544 - val_loss: 0.2189 - val_accuracy: 0.9140\n",
      "\n",
      "Epoch 00008: val_loss did not improve from 0.20915\n",
      "Epoch 9/40\n",
      "9/9 [==============================] - 22s 3s/step - loss: 0.1193 - accuracy: 0.9614 - val_loss: 0.2405 - val_accuracy: 0.9035\n",
      "\n",
      "Epoch 00009: val_loss did not improve from 0.20915\n",
      "Epoch 10/40\n",
      "9/9 [==============================] - 22s 3s/step - loss: 0.0758 - accuracy: 0.9789 - val_loss: 0.2656 - val_accuracy: 0.8991\n",
      "\n",
      "Epoch 00010: val_loss did not improve from 0.20915\n",
      "Epoch 11/40\n",
      "9/9 [==============================] - 21s 3s/step - loss: 0.1309 - accuracy: 0.9649 - val_loss: 0.2237 - val_accuracy: 0.9070\n",
      "\n",
      "Epoch 00011: val_loss did not improve from 0.20915\n",
      "Epoch 12/40\n",
      "9/9 [==============================] - 22s 3s/step - loss: 0.0879 - accuracy: 0.9649 - val_loss: 0.2605 - val_accuracy: 0.9018\n",
      "\n",
      "Epoch 00012: val_loss did not improve from 0.20915\n",
      "Epoch 13/40\n",
      "9/9 [==============================] - 22s 3s/step - loss: 0.0902 - accuracy: 0.9719 - val_loss: 0.2667 - val_accuracy: 0.8947\n",
      "\n",
      "Epoch 00013: val_loss did not improve from 0.20915\n",
      "Epoch 14/40\n",
      "9/9 [==============================] - 22s 3s/step - loss: 0.1488 - accuracy: 0.9509 - val_loss: 0.2314 - val_accuracy: 0.9140\n",
      "\n",
      "Epoch 00014: val_loss did not improve from 0.20915\n",
      "Epoch 15/40\n",
      "9/9 [==============================] - 22s 3s/step - loss: 0.0996 - accuracy: 0.9719 - val_loss: 0.2041 - val_accuracy: 0.9228\n",
      "\n",
      "Epoch 00015: val_loss improved from 0.20915 to 0.20410, saving model to ./model/20211019\n",
      "INFO:tensorflow:Assets written to: ./model/20211019/assets\n"
     ]
    },
    {
     "name": "stderr",
     "output_type": "stream",
     "text": [
      "/notebooks/.bdrk_env/lib/python3.8/site-packages/keras/utils/generic_utils.py:494: CustomMaskWarning: Custom mask layers require a config and must override get_config. When loading, the custom mask layer must be passed to the custom_objects argument.\n",
      "  warnings.warn('Custom mask layers require a config and must override '\n"
     ]
    },
    {
     "name": "stdout",
     "output_type": "stream",
     "text": [
      "Epoch 16/40\n",
      "9/9 [==============================] - 22s 3s/step - loss: 0.0529 - accuracy: 0.9719 - val_loss: 0.2169 - val_accuracy: 0.9228\n",
      "\n",
      "Epoch 00016: val_loss did not improve from 0.20410\n",
      "Epoch 17/40\n",
      "9/9 [==============================] - 21s 3s/step - loss: 0.1038 - accuracy: 0.9579 - val_loss: 0.2276 - val_accuracy: 0.9237\n",
      "\n",
      "Epoch 00017: val_loss did not improve from 0.20410\n",
      "Epoch 18/40\n",
      "9/9 [==============================] - 21s 3s/step - loss: 0.1157 - accuracy: 0.9684 - val_loss: 0.2527 - val_accuracy: 0.9132\n",
      "\n",
      "Epoch 00018: val_loss did not improve from 0.20410\n",
      "Epoch 19/40\n",
      "9/9 [==============================] - 22s 3s/step - loss: 0.0962 - accuracy: 0.9614 - val_loss: 0.2290 - val_accuracy: 0.9237\n",
      "\n",
      "Epoch 00019: val_loss did not improve from 0.20410\n",
      "Epoch 20/40\n",
      "9/9 [==============================] - 22s 3s/step - loss: 0.0582 - accuracy: 0.9789 - val_loss: 0.2409 - val_accuracy: 0.9202\n",
      "\n",
      "Epoch 00020: val_loss did not improve from 0.20410\n",
      "Epoch 21/40\n",
      "9/9 [==============================] - 22s 3s/step - loss: 0.0914 - accuracy: 0.9754 - val_loss: 0.2210 - val_accuracy: 0.9219\n",
      "\n",
      "Epoch 00021: val_loss did not improve from 0.20410\n",
      "Epoch 22/40\n",
      "9/9 [==============================] - 22s 3s/step - loss: 0.0706 - accuracy: 0.9754 - val_loss: 0.2292 - val_accuracy: 0.9228\n",
      "\n",
      "Epoch 00022: val_loss did not improve from 0.20410\n",
      "Epoch 23/40\n",
      "9/9 [==============================] - 22s 3s/step - loss: 0.0395 - accuracy: 0.9930 - val_loss: 0.2580 - val_accuracy: 0.9202\n",
      "\n",
      "Epoch 00023: val_loss did not improve from 0.20410\n",
      "Epoch 24/40\n",
      "9/9 [==============================] - 22s 3s/step - loss: 0.0548 - accuracy: 0.9754 - val_loss: 0.2851 - val_accuracy: 0.9096\n",
      "\n",
      "Epoch 00024: val_loss did not improve from 0.20410\n",
      "Epoch 25/40\n",
      "9/9 [==============================] - 22s 3s/step - loss: 0.0879 - accuracy: 0.9719 - val_loss: 0.3218 - val_accuracy: 0.9061\n",
      "\n",
      "Epoch 00025: val_loss did not improve from 0.20410\n",
      "Epoch 26/40\n",
      "9/9 [==============================] - 22s 3s/step - loss: 0.0778 - accuracy: 0.9825 - val_loss: 0.2558 - val_accuracy: 0.9175\n",
      "\n",
      "Epoch 00026: val_loss did not improve from 0.20410\n",
      "Epoch 27/40\n",
      "9/9 [==============================] - 22s 3s/step - loss: 0.0532 - accuracy: 0.9754 - val_loss: 0.2539 - val_accuracy: 0.9211\n",
      "\n",
      "Epoch 00027: val_loss did not improve from 0.20410\n",
      "Epoch 28/40\n",
      "9/9 [==============================] - 21s 3s/step - loss: 0.0879 - accuracy: 0.9684 - val_loss: 0.3291 - val_accuracy: 0.9096\n",
      "\n",
      "Epoch 00028: val_loss did not improve from 0.20410\n",
      "Epoch 29/40\n",
      "9/9 [==============================] - 22s 3s/step - loss: 0.1135 - accuracy: 0.9579 - val_loss: 0.3419 - val_accuracy: 0.9053\n",
      "\n",
      "Epoch 00029: val_loss did not improve from 0.20410\n",
      "Epoch 30/40\n",
      "9/9 [==============================] - 23s 3s/step - loss: 0.0744 - accuracy: 0.9754 - val_loss: 0.2819 - val_accuracy: 0.9228\n",
      "\n",
      "Epoch 00030: val_loss did not improve from 0.20410\n",
      "Epoch 31/40\n",
      "9/9 [==============================] - 22s 3s/step - loss: 0.0930 - accuracy: 0.9614 - val_loss: 0.3238 - val_accuracy: 0.9140\n",
      "\n",
      "Epoch 00031: val_loss did not improve from 0.20410\n",
      "Epoch 32/40\n",
      "9/9 [==============================] - 22s 3s/step - loss: 0.0456 - accuracy: 0.9754 - val_loss: 0.3121 - val_accuracy: 0.9175\n",
      "\n",
      "Epoch 00032: val_loss did not improve from 0.20410\n",
      "Epoch 33/40\n",
      "9/9 [==============================] - 22s 3s/step - loss: 0.0890 - accuracy: 0.9754 - val_loss: 0.3652 - val_accuracy: 0.9132\n",
      "\n",
      "Epoch 00033: val_loss did not improve from 0.20410\n",
      "Epoch 34/40\n",
      "9/9 [==============================] - 22s 3s/step - loss: 0.1046 - accuracy: 0.9719 - val_loss: 0.3511 - val_accuracy: 0.9184\n",
      "\n",
      "Epoch 00034: val_loss did not improve from 0.20410\n",
      "Epoch 35/40\n",
      "9/9 [==============================] - 22s 3s/step - loss: 0.1118 - accuracy: 0.9684 - val_loss: 0.3821 - val_accuracy: 0.9096\n",
      "\n",
      "Epoch 00035: val_loss did not improve from 0.20410\n",
      "Epoch 36/40\n",
      "9/9 [==============================] - 23s 3s/step - loss: 0.0723 - accuracy: 0.9649 - val_loss: 0.4341 - val_accuracy: 0.9053\n",
      "\n",
      "Epoch 00036: val_loss did not improve from 0.20410\n",
      "Epoch 37/40\n",
      "9/9 [==============================] - 22s 3s/step - loss: 0.0441 - accuracy: 0.9895 - val_loss: 0.4286 - val_accuracy: 0.9061\n",
      "\n",
      "Epoch 00037: val_loss did not improve from 0.20410\n",
      "Epoch 38/40\n",
      "9/9 [==============================] - 22s 3s/step - loss: 0.0663 - accuracy: 0.9825 - val_loss: 0.4788 - val_accuracy: 0.8965\n",
      "\n",
      "Epoch 00038: val_loss did not improve from 0.20410\n",
      "Epoch 39/40\n",
      "9/9 [==============================] - 22s 3s/step - loss: 0.0316 - accuracy: 0.9860 - val_loss: 0.4441 - val_accuracy: 0.9079\n",
      "\n",
      "Epoch 00039: val_loss did not improve from 0.20410\n",
      "Epoch 40/40\n",
      "9/9 [==============================] - 22s 3s/step - loss: 0.1490 - accuracy: 0.9649 - val_loss: 0.3938 - val_accuracy: 0.9158\n",
      "\n",
      "Epoch 00040: val_loss did not improve from 0.20410\n"
     ]
    }
   ],
   "source": [
    "from tensorflow.keras.callbacks import ModelCheckpoint\n",
    "\n",
    "checkpointer = ModelCheckpoint(filepath='./model/20211019', \n",
    "                        verbose=1, \n",
    "                        save_best_only=True)\n",
    "\n",
    "hist = model.fit(train_data, \n",
    "                 epochs=EPOCH, \n",
    "                 validation_data=val_data,\n",
    "                 callbacks=[checkpointer],\n",
    "                 verbose=1)"
   ]
  },
  {
   "cell_type": "code",
   "execution_count": 8,
   "id": "b3834ae1-0409-4e2c-b3e5-c13d16a66322",
   "metadata": {},
   "outputs": [
    {
     "data": {
      "image/png": "[encoded data removed]",
      "text/plain": [
       "<Figure size 432x288 with 1 Axes>"
      ]
     },
     "metadata": {
      "needs_background": "light"
     },
     "output_type": "display_data"
    }
   ],
   "source": [
    "plot_hist(hist)"
   ]
  },
  {
   "cell_type": "code",
   "execution_count": 9,
   "id": "e68695b1-a2fc-41fe-b52c-90dd364e10e9",
   "metadata": {},
   "outputs": [
    {
     "data": {
      "image/png": "[encoded data removed]",
      "text/plain": [
       "<Figure size 432x288 with 1 Axes>"
      ]
     },
     "metadata": {
      "needs_background": "light"
     },
     "output_type": "display_data"
    }
   ],
   "source": [
    "plot_hist(hist, metric=\"loss\")"
   ]
  },
  {
   "cell_type": "code",
   "execution_count": 11,
   "id": "865c3a03-eef0-4512-b2d5-12c18b87d04e",
   "metadata": {},
   "outputs": [
    {
     "data": {
      "text/plain": [
       "{'loss': [0.526753842830658,\n",
       "  0.3055315613746643,\n",
       "  0.1999211311340332,\n",
       "  0.19850343465805054,\n",
       "  0.16837789118289948,\n",
       "  0.10838618874549866,\n",
       "  0.07744751125574112,\n",
       "  0.15761801600456238,\n",
       "  0.11928104609251022,\n",
       "  0.07576441764831543,\n",
       "  0.13085290789604187,\n",
       "  0.08789288252592087,\n",
       "  0.09016460180282593,\n",
       "  0.14876848459243774,\n",
       "  0.09959331154823303,\n",
       "  0.052949052304029465,\n",
       "  0.10376016795635223,\n",
       "  0.1156930923461914,\n",
       "  0.09622550755739212,\n",
       "  0.05824171379208565,\n",
       "  0.09138543158769608,\n",
       "  0.07062437385320663,\n",
       "  0.03953193873167038,\n",
       "  0.05483999475836754,\n",
       "  0.08789848536252975,\n",
       "  0.07777374982833862,\n",
       "  0.0532059371471405,\n",
       "  0.08788008242845535,\n",
       "  0.11350191384553909,\n",
       "  0.07443970441818237,\n",
       "  0.0929947942495346,\n",
       "  0.045590657740831375,\n",
       "  0.08896927535533905,\n",
       "  0.10459364950656891,\n",
       "  0.11181376874446869,\n",
       "  0.07228973507881165,\n",
       "  0.04406991973519325,\n",
       "  0.06631717085838318,\n",
       "  0.03155956417322159,\n",
       "  0.14896246790885925],\n",
       " 'accuracy': [0.800000011920929,\n",
       "  0.9052631855010986,\n",
       "  0.9438596367835999,\n",
       "  0.9438596367835999,\n",
       "  0.9333333373069763,\n",
       "  0.9578947424888611,\n",
       "  0.9789473414421082,\n",
       "  0.9543859362602234,\n",
       "  0.961403489112854,\n",
       "  0.9789473414421082,\n",
       "  0.9649122953414917,\n",
       "  0.9649122953414917,\n",
       "  0.9719298481941223,\n",
       "  0.9508771896362305,\n",
       "  0.9719298481941223,\n",
       "  0.9719298481941223,\n",
       "  0.9578947424888611,\n",
       "  0.9684210419654846,\n",
       "  0.961403489112854,\n",
       "  0.9789473414421082,\n",
       "  0.9754385948181152,\n",
       "  0.9754385948181152,\n",
       "  0.9929824471473694,\n",
       "  0.9754385948181152,\n",
       "  0.9719298481941223,\n",
       "  0.9824561476707458,\n",
       "  0.9754385948181152,\n",
       "  0.9684210419654846,\n",
       "  0.9578947424888611,\n",
       "  0.9754385948181152,\n",
       "  0.961403489112854,\n",
       "  0.9754385948181152,\n",
       "  0.9754385948181152,\n",
       "  0.9719298481941223,\n",
       "  0.9684210419654846,\n",
       "  0.9649122953414917,\n",
       "  0.9894737005233765,\n",
       "  0.9824561476707458,\n",
       "  0.9859648942947388,\n",
       "  0.9649122953414917],\n",
       " 'val_loss': [0.2697655260562897,\n",
       "  0.2587698698043823,\n",
       "  0.23625448346138,\n",
       "  0.23333202302455902,\n",
       "  0.23147958517074585,\n",
       "  0.2252819985151291,\n",
       "  0.20915408432483673,\n",
       "  0.21894752979278564,\n",
       "  0.24054966866970062,\n",
       "  0.265600323677063,\n",
       "  0.2236911654472351,\n",
       "  0.2605104446411133,\n",
       "  0.2667253911495209,\n",
       "  0.23141562938690186,\n",
       "  0.20410174131393433,\n",
       "  0.2169213593006134,\n",
       "  0.22760087251663208,\n",
       "  0.25273311138153076,\n",
       "  0.22901348769664764,\n",
       "  0.24087877571582794,\n",
       "  0.22104281187057495,\n",
       "  0.22922775149345398,\n",
       "  0.2579781711101532,\n",
       "  0.2850821018218994,\n",
       "  0.32184967398643494,\n",
       "  0.25575047731399536,\n",
       "  0.25385913252830505,\n",
       "  0.32909858226776123,\n",
       "  0.34187743067741394,\n",
       "  0.2818576991558075,\n",
       "  0.3238028585910797,\n",
       "  0.31209230422973633,\n",
       "  0.3651559352874756,\n",
       "  0.35108572244644165,\n",
       "  0.38209372758865356,\n",
       "  0.43406787514686584,\n",
       "  0.4285929203033447,\n",
       "  0.4788318872451782,\n",
       "  0.4440545439720154,\n",
       "  0.39375054836273193],\n",
       " 'val_accuracy': [0.9114035367965698,\n",
       "  0.8999999761581421,\n",
       "  0.9140350818634033,\n",
       "  0.9105263352394104,\n",
       "  0.9122806787490845,\n",
       "  0.9114035367965698,\n",
       "  0.9228070378303528,\n",
       "  0.9140350818634033,\n",
       "  0.9035087823867798,\n",
       "  0.8991228342056274,\n",
       "  0.9070175290107727,\n",
       "  0.9017543792724609,\n",
       "  0.8947368264198303,\n",
       "  0.9140350818634033,\n",
       "  0.9228070378303528,\n",
       "  0.9228070378303528,\n",
       "  0.9236842393875122,\n",
       "  0.9131578803062439,\n",
       "  0.9236842393875122,\n",
       "  0.9201754331588745,\n",
       "  0.9219298362731934,\n",
       "  0.9228070378303528,\n",
       "  0.9201754331588745,\n",
       "  0.909649133682251,\n",
       "  0.9061403274536133,\n",
       "  0.917543888092041,\n",
       "  0.9210526347160339,\n",
       "  0.909649133682251,\n",
       "  0.9052631855010986,\n",
       "  0.9228070378303528,\n",
       "  0.9140350818634033,\n",
       "  0.917543888092041,\n",
       "  0.9131578803062439,\n",
       "  0.9184210300445557,\n",
       "  0.909649133682251,\n",
       "  0.9052631855010986,\n",
       "  0.9061403274536133,\n",
       "  0.8964912295341492,\n",
       "  0.9078947305679321,\n",
       "  0.9157894849777222]}"
      ]
     },
     "execution_count": 11,
     "metadata": {},
     "output_type": "execute_result"
    }
   ],
   "source": [
    "hist.history"
   ]
  },
  {
   "cell_type": "code",
   "execution_count": null,
   "id": "0fa7ceed-01e0-4292-ba58-0076fa2b2409",
   "metadata": {},
   "outputs": [],
   "source": []
  }
 ],
 "metadata": {
  "kernelspec": {
   "display_name": "Python 3 (ipykernel)",
   "language": "python",
   "name": "python3"
  },
  "language_info": {
   "codemirror_mode": {
    "name": "ipython",
    "version": 3
   },
   "file_extension": ".py",
   "mimetype": "text/x-python",
   "name": "python",
   "nbconvert_exporter": "python",
   "pygments_lexer": "ipython3",
   "version": "3.8.8"
  }
 },
 "nbformat": 4,
 "nbformat_minor": 5
}
