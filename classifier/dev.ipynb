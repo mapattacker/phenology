{
 "cells": [
  {
   "cell_type": "code",
   "execution_count": 1,
   "id": "dff6df2b-78dd-4e42-8d56-eaedb21b123a",
   "metadata": {},
   "outputs": [],
   "source": [
    "import config\n",
    "\n",
    "import matplotlib.pyplot as plt\n",
    "\n",
    "from tensorflow.keras.applications import EfficientNetB0\n",
    "from tensorflow.keras.preprocessing import image_dataset_from_directory\n",
    "# from tensorflow.keras.utils import image_dataset_from_directory\n",
    "from tensorflow.keras.models import Sequential\n",
    "from tensorflow.keras import layers"
   ]
  },
  {
   "cell_type": "code",
   "execution_count": 2,
   "id": "6f00365d-ecfe-404d-8a2b-fe4dad3f2e25",
   "metadata": {},
   "outputs": [],
   "source": [
    "DATA_DIR = \"data_/\"\n",
    "# fixed for each efficientnet model\n",
    "IMG_SIZE = 224 \n",
    "NUM_CLASSES = 1\n",
    "EPOCH = 10"
   ]
  },
  {
   "cell_type": "code",
   "execution_count": 3,
   "id": "91c5bace-0d53-4f8c-b53e-3173e12ef032",
   "metadata": {},
   "outputs": [
    {
     "name": "stdout",
     "output_type": "stream",
     "text": [
      "Found 204 files belonging to 2 classes.\n",
      "Using 164 files for training.\n",
      "Found 204 files belonging to 2 classes.\n",
      "Using 40 files for validation.\n"
     ]
    },
    {
     "name": "stderr",
     "output_type": "stream",
     "text": [
      "2021-10-18 08:35:46.802464: I tensorflow/stream_executor/cuda/cuda_gpu_executor.cc:937] successful NUMA node read from SysFS had negative value (-1), but there must be at least one NUMA node, so returning NUMA node zero\n",
      "2021-10-18 08:35:46.807467: W tensorflow/stream_executor/platform/default/dso_loader.cc:64] Could not load dynamic library 'libcusolver.so.11'; dlerror: libcusolver.so.11: cannot open shared object file: No such file or directory; LD_LIBRARY_PATH: /usr/local/nvidia/lib:/usr/local/nvidia/lib64\n",
      "2021-10-18 08:35:46.808198: W tensorflow/core/common_runtime/gpu/gpu_device.cc:1835] Cannot dlopen some GPU libraries. Please make sure the missing libraries mentioned above are installed properly if you would like to use GPU. Follow the guide at https://www.tensorflow.org/install/gpu for how to download and setup the required libraries for your platform.\n",
      "Skipping registering GPU devices...\n",
      "2021-10-18 08:35:46.809463: I tensorflow/core/platform/cpu_feature_guard.cc:142] This TensorFlow binary is optimized with oneAPI Deep Neural Network Library (oneDNN) to use the following CPU instructions in performance-critical operations:  AVX2 AVX512F FMA\n",
      "To enable them in other operations, rebuild TensorFlow with the appropriate compiler flags.\n"
     ]
    }
   ],
   "source": [
    "\n",
    "val_data = image_dataset_from_directory(\n",
    "                DATA_DIR,\n",
    "                labels=\"inferred\",\n",
    "                color_mode=\"rgb\",\n",
    "                batch_size=32,\n",
    "                image_size=(IMG_SIZE, IMG_SIZE),\n",
    "                validation_split=0.2,\n",
    "                subset=\"training\",\n",
    "                seed=1\n",
    "            )\n",
    "\n",
    "train_data = image_dataset_from_directory(\n",
    "                DATA_DIR,\n",
    "                labels=\"inferred\",\n",
    "                label_mode=\"int\",\n",
    "                class_names=None,\n",
    "                color_mode=\"rgb\",\n",
    "                batch_size=32,\n",
    "                image_size=(IMG_SIZE, IMG_SIZE),\n",
    "                validation_split=0.2,\n",
    "                subset=\"validation\",\n",
    "                seed=1\n",
    "            )"
   ]
  },
  {
   "cell_type": "code",
   "execution_count": 5,
   "id": "0b4b4f70-df3e-423d-ac3a-5a0d18dadfa7",
   "metadata": {},
   "outputs": [],
   "source": [
    "import tensorflow as tf\n",
    "AUTOTUNE = tf.data.AUTOTUNE\n",
    "\n",
    "train_data = train_data.cache().prefetch(buffer_size=AUTOTUNE)\n",
    "val_data = val_data.cache().prefetch(buffer_size=AUTOTUNE)"
   ]
  },
  {
   "cell_type": "code",
   "execution_count": 6,
   "id": "4c5cc84b-eb94-4a6f-8578-24634b308d01",
   "metadata": {},
   "outputs": [
    {
     "name": "stdout",
     "output_type": "stream",
     "text": [
      "<PrefetchDataset shapes: ((None, 224, 224, 3), (None,)), types: (tf.float32, tf.int32)>\n"
     ]
    },
    {
     "data": {
      "text/plain": [
       "tensorflow.python.data.ops.dataset_ops.PrefetchDataset"
      ]
     },
     "execution_count": 6,
     "metadata": {},
     "output_type": "execute_result"
    }
   ],
   "source": [
    "print(val_data)\n",
    "type(val_data)"
   ]
  },
  {
   "cell_type": "code",
   "execution_count": 7,
   "id": "f6d1169f-57ad-4907-ba14-598d19e55952",
   "metadata": {},
   "outputs": [],
   "source": [
    "def plot_hist(hist):\n",
    "    plt.plot(hist.history[\"accuracy\"])\n",
    "    plt.plot(hist.history[\"val_accuracy\"])\n",
    "    plt.title(\"model accuracy\")\n",
    "    plt.ylabel(\"accuracy\")\n",
    "    plt.xlabel(\"epoch\")\n",
    "    plt.legend([\"train\", \"validation\"], loc=\"upper left\")\n",
    "    plt.show()"
   ]
  },
  {
   "cell_type": "code",
   "execution_count": 8,
   "id": "13095213-1530-4bd8-be38-25cc7c4fe892",
   "metadata": {},
   "outputs": [],
   "source": [
    "def build_model(NUM_CLASSES):\n",
    "    inputs = layers.Input(shape=(IMG_SIZE, IMG_SIZE, 3))\n",
    "    img_augmentation = Sequential(\n",
    "        [\n",
    "            layers.RandomRotation(factor=0.15),\n",
    "            layers.RandomTranslation(height_factor=0.1, width_factor=0.1),\n",
    "            layers.RandomFlip(),\n",
    "            layers.RandomContrast(factor=0.1),\n",
    "        ],\n",
    "        name=\"img_augmentation\",\n",
    "    )\n",
    "\n",
    "    x = img_augmentation(inputs)\n",
    "    # model = EfficientNetB0(include_top=False, input_tensor=x, weights=\"imagenet\")\n",
    "    model = EfficientNetB0(include_top=False, input_tensor=x, weights='model/efficientnetb0_notop.h5')\n",
    "\n",
    "    # Freeze the pretrained weights\n",
    "    model.trainable = False\n",
    "\n",
    "    # Rebuild top\n",
    "    x = layers.GlobalAveragePooling2D(name=\"avg_pool\")(model.output)\n",
    "    x = layers.BatchNormalization()(x)\n",
    "\n",
    "    top_dropout_rate = 0.2\n",
    "    x = layers.Dropout(top_dropout_rate, name=\"top_dropout\")(x)\n",
    "    outputs = layers.Dense(NUM_CLASSES, activation=\"softmax\", name=\"pred\")(x)\n",
    "\n",
    "    # Compile\n",
    "    model = tf.keras.Model(inputs, outputs, name=\"EfficientNet\")\n",
    "    optimizer = tf.keras.optimizers.Adam(learning_rate=1e-2)\n",
    "    model.compile(\n",
    "        optimizer=optimizer, \n",
    "        loss=\"binary_crossentropy\", \n",
    "        metrics=[\"accuracy\"]\n",
    "    )\n",
    "    return model"
   ]
  },
  {
   "cell_type": "code",
   "execution_count": 9,
   "id": "8615f525-1ea8-4372-ab16-cbf22d768041",
   "metadata": {},
   "outputs": [],
   "source": [
    "model = build_model(NUM_CLASSES)"
   ]
  },
  {
   "cell_type": "code",
   "execution_count": 10,
   "id": "599f2607-82e3-40af-a625-11e9a90d1a6e",
   "metadata": {},
   "outputs": [
    {
     "name": "stdout",
     "output_type": "stream",
     "text": [
      "Epoch 1/10\n"
     ]
    },
    {
     "name": "stderr",
     "output_type": "stream",
     "text": [
      "2021-10-18 08:36:18.309315: I tensorflow/compiler/mlir/mlir_graph_optimization_pass.cc:185] None of the MLIR Optimization Passes are enabled (registered 2)\n"
     ]
    },
    {
     "name": "stdout",
     "output_type": "stream",
     "text": [
      "2/2 - 9s - loss: 0.9934 - accuracy: 0.4750 - val_loss: 0.7887 - val_accuracy: 0.4024\n",
      "Epoch 2/10\n",
      "2/2 - 3s - loss: 0.4009 - accuracy: 0.4750 - val_loss: 0.9271 - val_accuracy: 0.4024\n",
      "Epoch 3/10\n",
      "2/2 - 3s - loss: 0.3326 - accuracy: 0.4750 - val_loss: 1.1186 - val_accuracy: 0.4024\n",
      "Epoch 4/10\n",
      "2/2 - 3s - loss: 0.4502 - accuracy: 0.4750 - val_loss: 1.2709 - val_accuracy: 0.4024\n",
      "Epoch 5/10\n",
      "2/2 - 3s - loss: 0.5286 - accuracy: 0.4750 - val_loss: 1.3450 - val_accuracy: 0.4024\n",
      "Epoch 6/10\n",
      "2/2 - 3s - loss: 0.3906 - accuracy: 0.4750 - val_loss: 1.3399 - val_accuracy: 0.4024\n",
      "Epoch 7/10\n",
      "2/2 - 3s - loss: 0.2165 - accuracy: 0.4750 - val_loss: 1.2777 - val_accuracy: 0.4024\n",
      "Epoch 8/10\n",
      "2/2 - 3s - loss: 0.1940 - accuracy: 0.4750 - val_loss: 1.1755 - val_accuracy: 0.4024\n",
      "Epoch 9/10\n",
      "2/2 - 3s - loss: 0.1290 - accuracy: 0.4750 - val_loss: 1.0972 - val_accuracy: 0.4024\n",
      "Epoch 10/10\n",
      "2/2 - 3s - loss: 0.1103 - accuracy: 0.4750 - val_loss: 1.0702 - val_accuracy: 0.4024\n"
     ]
    }
   ],
   "source": [
    "# with strategy.scope():\n",
    "#     model = build_model(num_classes=NUM_CLASSES)\n",
    "hist = model.fit(train_data, \n",
    "                 epochs=EPOCH, \n",
    "                 validation_data=val_data, \n",
    "                 verbose=2)\n"
   ]
  },
  {
   "cell_type": "code",
   "execution_count": 11,
   "id": "b3834ae1-0409-4e2c-b3e5-c13d16a66322",
   "metadata": {},
   "outputs": [
    {
     "data": {
      "image/png": "[encoded data removed]",
      "text/plain": [
       "<Figure size 432x288 with 1 Axes>"
      ]
     },
     "metadata": {
      "needs_background": "light"
     },
     "output_type": "display_data"
    }
   ],
   "source": [
    "plot_hist(hist)"
   ]
  },
  {
   "cell_type": "code",
   "execution_count": null,
   "id": "e68695b1-a2fc-41fe-b52c-90dd364e10e9",
   "metadata": {},
   "outputs": [],
   "source": []
  }
 ],
 "metadata": {
  "kernelspec": {
   "display_name": "Python 3 (ipykernel)",
   "language": "python",
   "name": "python3"
  },
  "language_info": {
   "codemirror_mode": {
    "name": "ipython",
    "version": 3
   },
   "file_extension": ".py",
   "mimetype": "text/x-python",
   "name": "python",
   "nbconvert_exporter": "python",
   "pygments_lexer": "ipython3",
   "version": "3.8.8"
  }
 },
 "nbformat": 4,
 "nbformat_minor": 5
}
